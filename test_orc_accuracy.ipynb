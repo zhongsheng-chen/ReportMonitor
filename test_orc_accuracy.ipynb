{
 "cells": [
  {
   "cell_type": "code",
   "execution_count": 6,
   "metadata": {
    "collapsed": true
   },
   "outputs": [],
   "source": [
    "import sys\n",
    "import os\n",
    "from selenium import webdriver\n",
    "import json\n",
    "from PIL import Image\n",
    "import pytesseract\n",
    "import time\n",
    "from PyQt5.QtCore import *\n",
    "from PyQt5.QtWidgets import *\n",
    "from PyQt5.QtGui import *\n",
    "from ReportMonitor_UI import Ui_MainWindow\n",
    "import threading\n",
    "from win10toast import ToastNotifier\n",
    "from Notification import send_notification\n",
    "from collections import defaultdict\n",
    "import winsound\n",
    "import string\n",
    "import importlib"
   ]
  },
  {
   "cell_type": "code",
   "execution_count": 3,
   "outputs": [],
   "source": [
    "# driver.get(\"http://\" + goalurl + \"/pyxx/login.aspx\")\n",
    "# driver.maximize_window()\n",
    "# current_window_size = driver.get_window_size()\n",
    "# width = current_window_size[\"width\"]\n",
    "# height = current_window_size[\"height\"]\n",
    "# driver.set_window_size(width, height)\n",
    "# aElement = driver.find_element_by_xpath('./*//title')\n",
    "# print(aElement.get_attribute(\"innerText\"))"
   ],
   "metadata": {
    "collapsed": false,
    "pycharm": {
     "name": "#%%\n"
    }
   }
  },
  {
   "cell_type": "code",
   "execution_count": 4,
   "outputs": [],
   "source": [
    "user = \"2017400144\"\n",
    "goalurl = \"yjsy.buct.edu.cn:8080\"\n",
    "url = \"http://\" + goalurl + \"/pyxx/txhdgl/hdlist.aspx?xh=\" + user"
   ],
   "metadata": {
    "collapsed": false,
    "pycharm": {
     "name": "#%%\n"
    }
   }
  },
  {
   "cell_type": "code",
   "execution_count": 5,
   "outputs": [
    {
     "ename": "NoSuchElementException",
     "evalue": "Message: no such element: Unable to locate element: {\"method\":\"xpath\",\"selector\":\"./*//input[@name='txtyzm']/../img\"}\n  (Session info: headless chrome=90.0.4430.72)\n",
     "output_type": "error",
     "traceback": [
      "\u001B[1;31m---------------------------------------------------------------------------\u001B[0m",
      "\u001B[1;31mNoSuchElementException\u001B[0m                    Traceback (most recent call last)",
      "\u001B[1;32m<ipython-input-5-d165f6b2b8e4>\u001B[0m in \u001B[0;36m<module>\u001B[1;34m\u001B[0m\n\u001B[0;32m      6\u001B[0m \u001B[0mdriver\u001B[0m \u001B[1;33m=\u001B[0m \u001B[0mwebdriver\u001B[0m\u001B[1;33m.\u001B[0m\u001B[0mChrome\u001B[0m\u001B[1;33m(\u001B[0m\u001B[0moptions\u001B[0m\u001B[1;33m=\u001B[0m\u001B[0moption\u001B[0m\u001B[1;33m)\u001B[0m\u001B[1;33m\u001B[0m\u001B[1;33m\u001B[0m\u001B[0m\n\u001B[0;32m      7\u001B[0m \u001B[0mdriver\u001B[0m\u001B[1;33m.\u001B[0m\u001B[0mget\u001B[0m\u001B[1;33m(\u001B[0m\u001B[0murl\u001B[0m\u001B[1;33m)\u001B[0m\u001B[1;33m\u001B[0m\u001B[1;33m\u001B[0m\u001B[0m\n\u001B[1;32m----> 8\u001B[1;33m \u001B[0mtarget\u001B[0m \u001B[1;33m=\u001B[0m \u001B[0mdriver\u001B[0m\u001B[1;33m.\u001B[0m\u001B[0mfind_element_by_xpath\u001B[0m\u001B[1;33m(\u001B[0m\u001B[1;34m\"./*//input[@name='txtyzm']/../img\"\u001B[0m\u001B[1;33m)\u001B[0m\u001B[1;33m\u001B[0m\u001B[1;33m\u001B[0m\u001B[0m\n\u001B[0m\u001B[0;32m      9\u001B[0m \u001B[0mdriver\u001B[0m\u001B[1;33m.\u001B[0m\u001B[0mexecute_script\u001B[0m\u001B[1;33m(\u001B[0m\u001B[1;34m\"arguments[0].scrollIntoView(false);\"\u001B[0m\u001B[1;33m,\u001B[0m \u001B[0mtarget\u001B[0m\u001B[1;33m)\u001B[0m  \u001B[1;31m# 拖动到可见的元素去\u001B[0m\u001B[1;33m\u001B[0m\u001B[1;33m\u001B[0m\u001B[0m\n\u001B[0;32m     10\u001B[0m \u001B[1;33m\u001B[0m\u001B[0m\n",
      "\u001B[1;32m~\\.conda\\envs\\report_monitor\\lib\\site-packages\\selenium\\webdriver\\remote\\webdriver.py\u001B[0m in \u001B[0;36mfind_element_by_xpath\u001B[1;34m(self, xpath)\u001B[0m\n\u001B[0;32m    392\u001B[0m             \u001B[0melement\u001B[0m \u001B[1;33m=\u001B[0m \u001B[0mdriver\u001B[0m\u001B[1;33m.\u001B[0m\u001B[0mfind_element_by_xpath\u001B[0m\u001B[1;33m(\u001B[0m\u001B[1;34m'//div/td[1]'\u001B[0m\u001B[1;33m)\u001B[0m\u001B[1;33m\u001B[0m\u001B[1;33m\u001B[0m\u001B[0m\n\u001B[0;32m    393\u001B[0m         \"\"\"\n\u001B[1;32m--> 394\u001B[1;33m         \u001B[1;32mreturn\u001B[0m \u001B[0mself\u001B[0m\u001B[1;33m.\u001B[0m\u001B[0mfind_element\u001B[0m\u001B[1;33m(\u001B[0m\u001B[0mby\u001B[0m\u001B[1;33m=\u001B[0m\u001B[0mBy\u001B[0m\u001B[1;33m.\u001B[0m\u001B[0mXPATH\u001B[0m\u001B[1;33m,\u001B[0m \u001B[0mvalue\u001B[0m\u001B[1;33m=\u001B[0m\u001B[0mxpath\u001B[0m\u001B[1;33m)\u001B[0m\u001B[1;33m\u001B[0m\u001B[1;33m\u001B[0m\u001B[0m\n\u001B[0m\u001B[0;32m    395\u001B[0m \u001B[1;33m\u001B[0m\u001B[0m\n\u001B[0;32m    396\u001B[0m     \u001B[1;32mdef\u001B[0m \u001B[0mfind_elements_by_xpath\u001B[0m\u001B[1;33m(\u001B[0m\u001B[0mself\u001B[0m\u001B[1;33m,\u001B[0m \u001B[0mxpath\u001B[0m\u001B[1;33m)\u001B[0m\u001B[1;33m:\u001B[0m\u001B[1;33m\u001B[0m\u001B[1;33m\u001B[0m\u001B[0m\n",
      "\u001B[1;32m~\\.conda\\envs\\report_monitor\\lib\\site-packages\\selenium\\webdriver\\remote\\webdriver.py\u001B[0m in \u001B[0;36mfind_element\u001B[1;34m(self, by, value)\u001B[0m\n\u001B[0;32m    976\u001B[0m         return self.execute(Command.FIND_ELEMENT, {\n\u001B[0;32m    977\u001B[0m             \u001B[1;34m'using'\u001B[0m\u001B[1;33m:\u001B[0m \u001B[0mby\u001B[0m\u001B[1;33m,\u001B[0m\u001B[1;33m\u001B[0m\u001B[1;33m\u001B[0m\u001B[0m\n\u001B[1;32m--> 978\u001B[1;33m             'value': value})['value']\n\u001B[0m\u001B[0;32m    979\u001B[0m \u001B[1;33m\u001B[0m\u001B[0m\n\u001B[0;32m    980\u001B[0m     \u001B[1;32mdef\u001B[0m \u001B[0mfind_elements\u001B[0m\u001B[1;33m(\u001B[0m\u001B[0mself\u001B[0m\u001B[1;33m,\u001B[0m \u001B[0mby\u001B[0m\u001B[1;33m=\u001B[0m\u001B[0mBy\u001B[0m\u001B[1;33m.\u001B[0m\u001B[0mID\u001B[0m\u001B[1;33m,\u001B[0m \u001B[0mvalue\u001B[0m\u001B[1;33m=\u001B[0m\u001B[1;32mNone\u001B[0m\u001B[1;33m)\u001B[0m\u001B[1;33m:\u001B[0m\u001B[1;33m\u001B[0m\u001B[1;33m\u001B[0m\u001B[0m\n",
      "\u001B[1;32m~\\.conda\\envs\\report_monitor\\lib\\site-packages\\selenium\\webdriver\\remote\\webdriver.py\u001B[0m in \u001B[0;36mexecute\u001B[1;34m(self, driver_command, params)\u001B[0m\n\u001B[0;32m    319\u001B[0m         \u001B[0mresponse\u001B[0m \u001B[1;33m=\u001B[0m \u001B[0mself\u001B[0m\u001B[1;33m.\u001B[0m\u001B[0mcommand_executor\u001B[0m\u001B[1;33m.\u001B[0m\u001B[0mexecute\u001B[0m\u001B[1;33m(\u001B[0m\u001B[0mdriver_command\u001B[0m\u001B[1;33m,\u001B[0m \u001B[0mparams\u001B[0m\u001B[1;33m)\u001B[0m\u001B[1;33m\u001B[0m\u001B[1;33m\u001B[0m\u001B[0m\n\u001B[0;32m    320\u001B[0m         \u001B[1;32mif\u001B[0m \u001B[0mresponse\u001B[0m\u001B[1;33m:\u001B[0m\u001B[1;33m\u001B[0m\u001B[1;33m\u001B[0m\u001B[0m\n\u001B[1;32m--> 321\u001B[1;33m             \u001B[0mself\u001B[0m\u001B[1;33m.\u001B[0m\u001B[0merror_handler\u001B[0m\u001B[1;33m.\u001B[0m\u001B[0mcheck_response\u001B[0m\u001B[1;33m(\u001B[0m\u001B[0mresponse\u001B[0m\u001B[1;33m)\u001B[0m\u001B[1;33m\u001B[0m\u001B[1;33m\u001B[0m\u001B[0m\n\u001B[0m\u001B[0;32m    322\u001B[0m             response['value'] = self._unwrap_value(\n\u001B[0;32m    323\u001B[0m                 response.get('value', None))\n",
      "\u001B[1;32m~\\.conda\\envs\\report_monitor\\lib\\site-packages\\selenium\\webdriver\\remote\\errorhandler.py\u001B[0m in \u001B[0;36mcheck_response\u001B[1;34m(self, response)\u001B[0m\n\u001B[0;32m    240\u001B[0m                 \u001B[0malert_text\u001B[0m \u001B[1;33m=\u001B[0m \u001B[0mvalue\u001B[0m\u001B[1;33m[\u001B[0m\u001B[1;34m'alert'\u001B[0m\u001B[1;33m]\u001B[0m\u001B[1;33m.\u001B[0m\u001B[0mget\u001B[0m\u001B[1;33m(\u001B[0m\u001B[1;34m'text'\u001B[0m\u001B[1;33m)\u001B[0m\u001B[1;33m\u001B[0m\u001B[1;33m\u001B[0m\u001B[0m\n\u001B[0;32m    241\u001B[0m             \u001B[1;32mraise\u001B[0m \u001B[0mexception_class\u001B[0m\u001B[1;33m(\u001B[0m\u001B[0mmessage\u001B[0m\u001B[1;33m,\u001B[0m \u001B[0mscreen\u001B[0m\u001B[1;33m,\u001B[0m \u001B[0mstacktrace\u001B[0m\u001B[1;33m,\u001B[0m \u001B[0malert_text\u001B[0m\u001B[1;33m)\u001B[0m\u001B[1;33m\u001B[0m\u001B[1;33m\u001B[0m\u001B[0m\n\u001B[1;32m--> 242\u001B[1;33m         \u001B[1;32mraise\u001B[0m \u001B[0mexception_class\u001B[0m\u001B[1;33m(\u001B[0m\u001B[0mmessage\u001B[0m\u001B[1;33m,\u001B[0m \u001B[0mscreen\u001B[0m\u001B[1;33m,\u001B[0m \u001B[0mstacktrace\u001B[0m\u001B[1;33m)\u001B[0m\u001B[1;33m\u001B[0m\u001B[1;33m\u001B[0m\u001B[0m\n\u001B[0m\u001B[0;32m    243\u001B[0m \u001B[1;33m\u001B[0m\u001B[0m\n\u001B[0;32m    244\u001B[0m     \u001B[1;32mdef\u001B[0m \u001B[0m_value_or_default\u001B[0m\u001B[1;33m(\u001B[0m\u001B[0mself\u001B[0m\u001B[1;33m,\u001B[0m \u001B[0mobj\u001B[0m\u001B[1;33m,\u001B[0m \u001B[0mkey\u001B[0m\u001B[1;33m,\u001B[0m \u001B[0mdefault\u001B[0m\u001B[1;33m)\u001B[0m\u001B[1;33m:\u001B[0m\u001B[1;33m\u001B[0m\u001B[1;33m\u001B[0m\u001B[0m\n",
      "\u001B[1;31mNoSuchElementException\u001B[0m: Message: no such element: Unable to locate element: {\"method\":\"xpath\",\"selector\":\"./*//input[@name='txtyzm']/../img\"}\n  (Session info: headless chrome=90.0.4430.72)\n"
     ]
    }
   ],
   "source": [
    "option = webdriver.ChromeOptions()\n",
    "option.add_argument(\"--start-maximized\")\n",
    "option.add_argument('window-size=1536, 824')\n",
    "option.add_argument('headless')\n",
    "\n",
    "driver = webdriver.Chrome(options=option)\n",
    "driver.get(url)\n",
    "target = driver.find_element_by_xpath(\"./*//input[@name='txtyzm']/../img\")\n",
    "driver.execute_script(\"arguments[0].scrollIntoView(false);\", target)  # 拖动到可见的元素去"
   ],
   "metadata": {
    "collapsed": false,
    "pycharm": {
     "name": "#%%\n"
    }
   }
  },
  {
   "cell_type": "code",
   "execution_count": null,
   "outputs": [],
   "source": [
    "\n",
    "yzmElement = driver.find_element_by_xpath(\"./*//input[@name='txtyzm']/../img\")\n",
    "img = Image.open('screenshot.png')\n",
    "\n",
    "left = int(yzmElement.location['x'])\n",
    "\n",
    "# top = int(yzmElement.location['y'])\n",
    "# top = img.height - 32 - yzmElement.size['height'] #- bottomTable.size['height']\n",
    "if int(yzmElement.location['y'] + yzmElement.size['height']) > img.height:\n",
    "    bottom = img.height\n",
    "else:\n",
    "    bottom = int(yzmElement.location['y'] + yzmElement.size['height'])\n",
    "top = bottom - yzmElement.size['height']\n",
    "right = int(yzmElement.location['x'] + yzmElement.size['width'])\n",
    "# bottom = int(yzmElement.location['y'] + yzmElement.size['height'])\n",
    "print((left, top, right, bottom))\n",
    "img = img.crop((left, top, right, bottom))\n",
    "img.save('code.png')"
   ],
   "metadata": {
    "collapsed": false,
    "pycharm": {
     "name": "#%%\n"
    }
   }
  },
  {
   "cell_type": "code",
   "execution_count": null,
   "outputs": [],
   "source": [
    "def _get_threshold(image):\n",
    "    pixel_dict = defaultdict(int)\n",
    "\n",
    "    #  a dictionary of pixels and the number of occurrences of that pixel\n",
    "    rows, cols = image.size\n",
    "    for i in range(rows):\n",
    "        for j in range(cols):\n",
    "            pixel = image.getpixel((i, j))\n",
    "            pixel_dict[pixel] += 1\n",
    "\n",
    "    count_max = max(pixel_dict.values())  # gets the number of times a pixel appears\n",
    "    pixel_dict_reverse = {v: k for k, v in pixel_dict.items()}\n",
    "    threshold = pixel_dict_reverse[count_max]  #\n",
    "\n",
    "    return threshold\n",
    "\n",
    "def _get_bin_table(threshold):\n",
    "    table = []\n",
    "    for i in range(256):\n",
    "        rate = 0.1  # threshold\n",
    "        if threshold * (1 - rate) <= i <= threshold * (1 + rate):\n",
    "            table.append(1)\n",
    "        else:\n",
    "            table.append(0)\n",
    "    return table\n",
    "\n",
    "def _cut_noise(image):\n",
    "    rows, cols = image.size  #\n",
    "    change_pos = []  #\n",
    "    for i in range(1, rows - 1):\n",
    "        for j in range(1, cols - 1):\n",
    "            pixel_set = []\n",
    "            for m in range(i - 1, i + 2):\n",
    "                for n in range(j - 1, j + 2):\n",
    "                    if image.getpixel((m, n)) != 1:  # 1,0\n",
    "                        pixel_set.append(image.getpixel((m, n)))\n",
    "            if len(pixel_set) <= 4:\n",
    "                change_pos.append((i, j))\n",
    "    for pos in change_pos:\n",
    "        image.putpixel(pos, 1)\n",
    "    return image"
   ],
   "metadata": {
    "collapsed": false,
    "pycharm": {
     "name": "#%%\n"
    }
   }
  },
  {
   "cell_type": "code",
   "execution_count": null,
   "outputs": [],
   "source": [
    "image = Image.open('code.png')\n",
    "image = image.convert('L')\n",
    "max_pixel = _get_threshold(image)\n",
    "table = _get_bin_table(threshold=max_pixel)\n",
    "image = image.point(table, '1')\n",
    "image = _cut_noise(image)\n",
    "image.save('code_denoise.png')\n",
    "yzm = pytesseract.image_to_string(image)\n",
    "# exclude_char_list = ' .·:`‘、“\\\\|\\'\\\"?![],()~@#$%^&*_+-={};<>/¥'\n",
    "# yzm = ''.join([x for x in yzm if x not in exclude_char_list]).strip()\n",
    "\n",
    "print(yzm)\n",
    "\n",
    "whitespace = ['\\f', '\\n', '\\r', '\\t', '\\v', '\\u00A0', '\\u2028', '\\u2029']\n",
    "yzm = ''.join(filter(lambda x: x not in whitespace, filter(lambda x: x in string.printable, yzm))).strip(' \\r\\n\\f\\t\\b\\v\\0')\n",
    "\n",
    "print(yzm)"
   ],
   "metadata": {
    "collapsed": false,
    "pycharm": {
     "name": "#%%\n"
    }
   }
  },
  {
   "cell_type": "code",
   "execution_count": null,
   "outputs": [],
   "source": [
    "import cv2\n",
    "import matplotlib.pyplot as plt\n",
    "\n",
    "img = cv2.imread(\"code.png\")\n",
    "cv2_img = cv2.cvtColor(img, cv2.COLOR_RGB2GRAY)\n",
    "cv2_img = cv2.inRange(cv2_img, lowerb=160, upperb=255)\n",
    "pil_img = Image.fromarray(cv2_img)\n",
    "pil_img = pil_img.convert('L')\n",
    "pil_img.show()\n",
    "\n",
    "\n",
    "plt.subplot(121), plt.imshow(img)  # 原始图片\n",
    "plt.subplot(122), plt.imshow(pil_img)  # 降噪图片\n",
    "plt.show()\n"
   ],
   "metadata": {
    "collapsed": false,
    "pycharm": {
     "name": "#%% from CV2 Image to Pillow\n"
    }
   }
  },
  {
   "cell_type": "code",
   "execution_count": null,
   "outputs": [],
   "source": [
    "# import numpy as np\n",
    "# import matplotlib.pyplot as plt\n",
    "# import cv2\n",
    "# from PIL import Image\n",
    "# pil_img = Image.open('code.png')\n",
    "# pil_img = pil_img.convert('L')\n",
    "# pil_img.show()\n",
    "# cv2_img = np.asarray(pil_img)\n",
    "# cv2_img = cv2.cvtColor(cv2_img, cv2.COLOR_RGB2GRAY)\n",
    "#\n",
    "# plt.subplot(121), plt.imshow(pil_img)  # 原始图片\n",
    "# plt.subplot(122), plt.imshow(cv2_img)  # 降噪图片\n",
    "# plt.show()"
   ],
   "metadata": {
    "collapsed": false,
    "pycharm": {
     "name": "#%% from Pillow Image to CV2\n"
    }
   }
  },
  {
   "cell_type": "code",
   "execution_count": 2,
   "outputs": [
    {
     "data": {
      "text/plain": "-1"
     },
     "execution_count": 2,
     "metadata": {},
     "output_type": "execute_result"
    }
   ],
   "source": [
    "import cv2\n",
    "import matplotlib.pyplot as plt\n",
    "import time\n",
    "import numpy as np\n",
    "import pandas as pd\n",
    "import os\n",
    "\n",
    "\n",
    "im1 = cv2.imread('code.png')  # 读入图片\n",
    "im_gray1 = cv2.cvtColor(im1, cv2.COLOR_BGR2GRAY)   # 将图片转成灰度图\n",
    "# 报错 error: (-215:Assertion failed) 原因是文件路径错误\n",
    "ret1, im_inv1 = cv2.threshold(im_gray1, 127, 255, cv2.THRESH_BINARY_INV)  # 二值化\n",
    "# 应用高斯模糊对图片进行降噪，高斯模糊的本质是用高斯核和图像做卷积\n",
    "kernel1 = 1/16*np.array([[1, 2, 1], [2, 4, 2], [1, 2, 1]])\n",
    "im_blur1 = cv2.filter2D(im_inv1, -1, kernel1)\n",
    "\n",
    "# 降噪后再做一轮二值化处理\n",
    "ret2, im_inv2 = cv2.threshold(im_blur1, 127, 255, cv2.THRESH_BINARY)\n",
    "\n",
    "# 把最开始的图片切割成单个字符\n",
    "# 第一步 用opencv的findContours来提取轮廓 （cv2.findContours()函数接受的参数为二值图）\n",
    "contours, hierarchy = cv2.findContours(im_inv2, cv2.RETR_EXTERNAL, cv2.CHAIN_APPROX_SIMPLE)\n",
    "# 第一个参数是寻找轮廓的图像，第二个参数表示轮廓的检索模式，第三个参数method为轮廓的近似办法\n",
    "cv2.drawContours(im1, contours, -1, (0, 255, 0), 1)  # 第三个参数为线条颜色，第四个参数线条粗度\n",
    "cv2.namedWindow(\"im1_drawContour\")\n",
    "cv2.imshow(\"im1_drawContour\", im1)\n",
    "cv2.waitKey(50)"
   ],
   "metadata": {
    "collapsed": false,
    "pycharm": {
     "name": "#%%\n"
    }
   }
  },
  {
   "cell_type": "code",
   "execution_count": 3,
   "outputs": [],
   "source": [
    "dfContourShape = pd.DataFrame(columns=('X','Y','W','H'))\n",
    "for i in range(len(contours)):\n",
    "    # cv2.drawContours(cv2.imread(filepath1) , contours, i, (0, 255, 0), 1)   # i 表示绘制第i条轮廓\n",
    "    x, y, w, h = cv2.boundingRect(contours[i])  # 用一个最小的矩形，把找到的形状包起来\n",
    "    dfContourShape = dfContourShape.append([{'X': x, 'Y':y, 'W':w, 'H':h}], ignore_index=True)\n",
    "    im3 = cv2.rectangle(im1, (x, y), (x + w, y + h), (0, 0, 255), 2)\n",
    "    # cv2.namedWindow(\"im3\")\n",
    "    # cv2.imshow(\"im3\", im3)\n",
    "    # cv2.waitKey(50)\n",
    "    # cv2.destroyAllWindows()\n",
    "result = []\n",
    "for i in range(len(dfContourShape)):\n",
    "    x = dfContourShape['X'][i]\n",
    "    y = dfContourShape['Y'][i]\n",
    "    w = dfContourShape['W'][i]\n",
    "    h = dfContourShape['H'][i]\n",
    "    wMax = max(dfContourShape['W'])\n",
    "    wMin = min(dfContourShape['W'])\n",
    "    if len(dfContourShape) == 1:\n",
    "        boxLeft = np.int0([[x, y], [x + w / 4, y], [x + w / 4, y + h], [x, y + h]])\n",
    "        boxMidLeft = np.int0([[x + w / 4, y], [x + w * 2 / 4, y], [x + w * 2 / 4, y + h], [x + w / 4, y + h]])\n",
    "        boxMidRight = np.int0([[x + w * 2 / 4, y], [x + w * 3 / 4, y], [x + w * 3 / 4, y + h], [x + w * 2 / 4, y + h]])\n",
    "        boxRight = np.int0([[x + w * 3 / 4, y], [x + w, y], [x + w, y + h], [x + w * 3 / 4, y + h]])\n",
    "        result.extend([boxLeft, boxMidLeft, boxMidRight, boxRight])\n",
    "    elif len(dfContourShape) == 2:  # 两种情况\n",
    "        # 如果一个轮廓的宽度是另一个的2倍以上，这个轮廓大概率是包含3个字符的轮廓\n",
    "        if wMax >= wMin * 2:\n",
    "            if w == wMax:\n",
    "                box_left = np.int0([[x,y], [x+w/3,y], [x+w/3,y+h], [x,y+h]])\n",
    "                box_mid = np.int0([[x+w/3,y], [x+w*2/3,y], [x+w*2/3,y+h], [x+w/3,y+h]])\n",
    "                box_right = np.int0([[x+w*2/3,y], [x+w,y], [x+w,y+h], [x+w*2/3,y+h]])\n",
    "                result.append(box_left)\n",
    "                result.append(box_mid)\n",
    "                result.append(box_right)\n",
    "            else:\n",
    "                box = np.int0([[x, y], [x + w, y], [x + w, y + h], [x, y + h]])\n",
    "                result.append(box)\n",
    "        # 如果两个轮廓，较宽的宽度小于较窄的2倍，大概率这是两个包含2个字符的轮廓\n",
    "        else:\n",
    "            box_left = np.int0([[x,y], [x+w/2,y], [x+w/2,y+h], [x,y+h]])\n",
    "            box_right = np.int0([[x+w/2,y], [x+w,y], [x+w,y+h], [x+w/2,y+h]])\n",
    "            result.append(box_left)\n",
    "            result.append(box_right)\n",
    "    elif len(dfContourShape) == 3:\n",
    "        if w == wMax:\n",
    "            # w_max是所有 contonur 的宽度中最宽的值\n",
    "            box_left = np.int0([[x,y], [x+w/2,y], [x+w/2,y+h], [x,y+h]])\n",
    "            box_right = np.int0([[x+w/2,y], [x+w,y], [x+w,y+h], [x+w/2,y+h]])\n",
    "            result.append(box_left)\n",
    "            result.append(box_right)\n",
    "        else:\n",
    "            box = np.int0([[x,y], [x+w,y], [x+w,y+h], [x,y+h]])\n",
    "            result.append(box)\n",
    "    elif len(dfContourShape) == 4:\n",
    "        box = np.int0([[x, y], [x + w, y], [x + w, y + h], [x, y + h]])\n",
    "        result.append(box)\n",
    "    elif len(dfContourShape) == 5:\n",
    "        if w != wMin:\n",
    "            box = np.int0([[x, y], [x + w, y], [x + w, y + h], [x, y + h]])\n",
    "            result.append(box)\n",
    "    else:\n",
    "        print('分割轮廓数大于 5 切换验证码!')\n",
    "if len(result) != 4:\n",
    "    print('len(result) != 4 .....\\nlen(result) != 4 .....\\nlen(result) != 4 .....')\n",
    "\n",
    "for box in result:\n",
    "    cv2.drawContours(cv2.imread('code.png'), [box], 0, (0, 0, 255), 1)\n",
    "    cv2.namedWindow(\"im1\")\n",
    "    cv2.imshow(\"im1\", im1)\n",
    "    cv2.waitKey(100)  # 100毫秒\n",
    "    time.sleep(3)\n",
    "    cv2.destroyAllWindows()\n",
    "    roi = im_inv2[box[0][1]:box[3][1], box[0][0]:box[1][0]]\n",
    "    roiStd = cv2.resize(roi, (30, 30))\n",
    "    # 将字符图片统一调整为30x30的图片大小\n",
    "    # 为防止文件重名，使用时间戳命名文件名"
   ],
   "metadata": {
    "collapsed": false,
    "pycharm": {
     "name": "#%%\n"
    }
   }
  },
  {
   "cell_type": "code",
   "execution_count": 10,
   "outputs": [
    {
     "ename": "error",
     "evalue": "OpenCV(4.5.1) C:\\Users\\appveyor\\AppData\\Local\\Temp\\1\\pip-req-build-oduouqig\\opencv\\modules\\imgcodecs\\src\\loadsave.cpp:682: error: (-2:Unspecified error) could not find a writer for the specified extension in function 'cv::imwrite_'\n",
     "output_type": "error",
     "traceback": [
      "\u001B[1;31m---------------------------------------------------------------------------\u001B[0m",
      "\u001B[1;31merror\u001B[0m                                     Traceback (most recent call last)",
      "\u001B[1;32m<ipython-input-10-58bff30d1de6>\u001B[0m in \u001B[0;36m<module>\u001B[1;34m\u001B[0m\n\u001B[1;32m----> 1\u001B[1;33m \u001B[0mcv2\u001B[0m\u001B[1;33m.\u001B[0m\u001B[0mimwrite\u001B[0m\u001B[1;33m(\u001B[0m\u001B[1;34m'./'\u001B[0m\u001B[1;33m,\u001B[0m \u001B[0mroiStd\u001B[0m\u001B[1;33m)\u001B[0m\u001B[1;33m\u001B[0m\u001B[1;33m\u001B[0m\u001B[0m\n\u001B[0m\u001B[0;32m      2\u001B[0m \u001B[1;33m\u001B[0m\u001B[0m\n",
      "\u001B[1;31merror\u001B[0m: OpenCV(4.5.1) C:\\Users\\appveyor\\AppData\\Local\\Temp\\1\\pip-req-build-oduouqig\\opencv\\modules\\imgcodecs\\src\\loadsave.cpp:682: error: (-2:Unspecified error) could not find a writer for the specified extension in function 'cv::imwrite_'\n"
     ]
    }
   ],
   "source": [
    "cv2.imwrite('./', roiStd)"
   ],
   "metadata": {
    "collapsed": false,
    "pycharm": {
     "name": "#%%\n"
    }
   }
  },
  {
   "cell_type": "code",
   "execution_count": 17,
   "outputs": [
    {
     "name": "stdout",
     "output_type": "stream",
     "text": [
      "\f\n"
     ]
    }
   ],
   "source": [
    "img = cv2.imread('code.png')\n",
    "img = cv2.cvtColor(img, cv2.COLOR_BGR2GRAY)\n",
    "cv2.imwrite(\"gray.png\", img)\n",
    "# img = cv2.adaptiveThreshold(img, 127, cv2.ADAPTIVE_THRESH_GAUSSIAN_C, cv2.THRESH_BINARY, 31, 2)\n",
    "ret1, img = cv2.threshold(img, 127, 255, cv2.THRESH_BINARY_INV)\n",
    "cv2.imwrite(\"threshold.png\", img)\n",
    "kernel = 1/16*np.array([[1, 2, 1], [2, 4, 2], [1, 2, 1]])\n",
    "img = cv2.dilate(img, kernel, iterations=20)\n",
    "img = cv2.erode(img, kernel, iterations=20)\n",
    "img = cv2.filter2D(img, -1, kernel1)\n",
    "ret2, img = cv2.threshold(img, 127, 255, cv2.THRESH_BINARY_INV)\n",
    "cv2.imwrite(\"no_noise.png\", img)\n",
    "\n",
    "\n",
    "code = pytesseract.image_to_string(Image.open(\"no_noise.png\"))\n",
    "\n",
    "print(code)"
   ],
   "metadata": {
    "collapsed": false,
    "pycharm": {
     "name": "#%%\n"
    }
   }
  },
  {
   "cell_type": "code",
   "execution_count": 21,
   "outputs": [
    {
     "ename": "KeyboardInterrupt",
     "evalue": "",
     "output_type": "error",
     "traceback": [
      "\u001B[1;31m---------------------------------------------------------------------------\u001B[0m",
      "\u001B[1;31mKeyboardInterrupt\u001B[0m                         Traceback (most recent call last)",
      "\u001B[1;32m<ipython-input-21-b2406226edc1>\u001B[0m in \u001B[0;36m<module>\u001B[1;34m\u001B[0m\n\u001B[0;32m     11\u001B[0m \u001B[1;31m# 对结果的处理\u001B[0m\u001B[1;33m\u001B[0m\u001B[1;33m\u001B[0m\u001B[1;33m\u001B[0m\u001B[0m\n\u001B[0;32m     12\u001B[0m \u001B[0mst\u001B[0m \u001B[1;33m=\u001B[0m \u001B[0mre\u001B[0m\u001B[1;33m.\u001B[0m\u001B[0msub\u001B[0m\u001B[1;33m(\u001B[0m\u001B[1;34mr'[^A-Za-z0-9]+'\u001B[0m\u001B[1;33m,\u001B[0m \u001B[1;34m''\u001B[0m\u001B[1;33m,\u001B[0m \u001B[0ma\u001B[0m\u001B[1;33m)\u001B[0m\u001B[1;33m\u001B[0m\u001B[1;33m\u001B[0m\u001B[0m\n\u001B[1;32m---> 13\u001B[1;33m \u001B[0mst\u001B[0m \u001B[1;33m=\u001B[0m \u001B[0mst\u001B[0m\u001B[1;33m.\u001B[0m\u001B[0mlower\u001B[0m\u001B[1;33m(\u001B[0m\u001B[1;33m)\u001B[0m\u001B[1;33m\u001B[0m\u001B[1;33m\u001B[0m\u001B[0m\n\u001B[0m\u001B[0;32m     14\u001B[0m \u001B[1;32mif\u001B[0m \u001B[0mlen\u001B[0m\u001B[1;33m(\u001B[0m\u001B[0mst\u001B[0m\u001B[1;33m)\u001B[0m \u001B[1;33m>\u001B[0m \u001B[1;36m4\u001B[0m\u001B[1;33m:\u001B[0m\u001B[1;33m\u001B[0m\u001B[1;33m\u001B[0m\u001B[0m\n\u001B[0;32m     15\u001B[0m     \u001B[0mb\u001B[0m \u001B[1;33m=\u001B[0m \u001B[0mst\u001B[0m\u001B[1;33m[\u001B[0m\u001B[1;33m-\u001B[0m\u001B[1;36m4\u001B[0m\u001B[1;33m:\u001B[0m\u001B[1;33m]\u001B[0m\u001B[1;33m\u001B[0m\u001B[1;33m\u001B[0m\u001B[0m\n",
      "\u001B[1;32m<ipython-input-21-b2406226edc1>\u001B[0m in \u001B[0;36m<module>\u001B[1;34m\u001B[0m\n\u001B[0;32m     11\u001B[0m \u001B[1;31m# 对结果的处理\u001B[0m\u001B[1;33m\u001B[0m\u001B[1;33m\u001B[0m\u001B[1;33m\u001B[0m\u001B[0m\n\u001B[0;32m     12\u001B[0m \u001B[0mst\u001B[0m \u001B[1;33m=\u001B[0m \u001B[0mre\u001B[0m\u001B[1;33m.\u001B[0m\u001B[0msub\u001B[0m\u001B[1;33m(\u001B[0m\u001B[1;34mr'[^A-Za-z0-9]+'\u001B[0m\u001B[1;33m,\u001B[0m \u001B[1;34m''\u001B[0m\u001B[1;33m,\u001B[0m \u001B[0ma\u001B[0m\u001B[1;33m)\u001B[0m\u001B[1;33m\u001B[0m\u001B[1;33m\u001B[0m\u001B[0m\n\u001B[1;32m---> 13\u001B[1;33m \u001B[0mst\u001B[0m \u001B[1;33m=\u001B[0m \u001B[0mst\u001B[0m\u001B[1;33m.\u001B[0m\u001B[0mlower\u001B[0m\u001B[1;33m(\u001B[0m\u001B[1;33m)\u001B[0m\u001B[1;33m\u001B[0m\u001B[1;33m\u001B[0m\u001B[0m\n\u001B[0m\u001B[0;32m     14\u001B[0m \u001B[1;32mif\u001B[0m \u001B[0mlen\u001B[0m\u001B[1;33m(\u001B[0m\u001B[0mst\u001B[0m\u001B[1;33m)\u001B[0m \u001B[1;33m>\u001B[0m \u001B[1;36m4\u001B[0m\u001B[1;33m:\u001B[0m\u001B[1;33m\u001B[0m\u001B[1;33m\u001B[0m\u001B[0m\n\u001B[0;32m     15\u001B[0m     \u001B[0mb\u001B[0m \u001B[1;33m=\u001B[0m \u001B[0mst\u001B[0m\u001B[1;33m[\u001B[0m\u001B[1;33m-\u001B[0m\u001B[1;36m4\u001B[0m\u001B[1;33m:\u001B[0m\u001B[1;33m]\u001B[0m\u001B[1;33m\u001B[0m\u001B[1;33m\u001B[0m\u001B[0m\n",
      "\u001B[1;32m_pydevd_bundle\\pydevd_cython_win32_37_64.pyx\u001B[0m in \u001B[0;36m_pydevd_bundle.pydevd_cython_win32_37_64.SafeCallWrapper.__call__\u001B[1;34m()\u001B[0m\n",
      "\u001B[1;32m_pydevd_bundle\\pydevd_cython_win32_37_64.pyx\u001B[0m in \u001B[0;36m_pydevd_bundle.pydevd_cython_win32_37_64.PyDBFrame.trace_dispatch\u001B[1;34m()\u001B[0m\n",
      "\u001B[1;32m_pydevd_bundle\\pydevd_cython_win32_37_64.pyx\u001B[0m in \u001B[0;36m_pydevd_bundle.pydevd_cython_win32_37_64.PyDBFrame.trace_dispatch\u001B[1;34m()\u001B[0m\n",
      "\u001B[1;32m_pydevd_bundle\\pydevd_cython_win32_37_64.pyx\u001B[0m in \u001B[0;36m_pydevd_bundle.pydevd_cython_win32_37_64.PyDBFrame.trace_dispatch\u001B[1;34m()\u001B[0m\n",
      "\u001B[1;32m_pydevd_bundle\\pydevd_cython_win32_37_64.pyx\u001B[0m in \u001B[0;36m_pydevd_bundle.pydevd_cython_win32_37_64.PyDBFrame.do_wait_suspend\u001B[1;34m()\u001B[0m\n",
      "\u001B[1;32mC:\\Program Files\\JetBrains\\PyCharm 2021.1\\plugins\\python\\helpers\\pydev\\pydevd.py\u001B[0m in \u001B[0;36mdo_wait_suspend\u001B[1;34m(self, thread, frame, event, arg, send_suspend_message, is_unhandled_exception)\u001B[0m\n\u001B[0;32m   1145\u001B[0m \u001B[1;33m\u001B[0m\u001B[0m\n\u001B[0;32m   1146\u001B[0m         \u001B[1;32mwith\u001B[0m \u001B[0mself\u001B[0m\u001B[1;33m.\u001B[0m\u001B[0m_threads_suspended_single_notification\u001B[0m\u001B[1;33m.\u001B[0m\u001B[0mnotify_thread_suspended\u001B[0m\u001B[1;33m(\u001B[0m\u001B[0mthread_id\u001B[0m\u001B[1;33m,\u001B[0m \u001B[0mstop_reason\u001B[0m\u001B[1;33m)\u001B[0m\u001B[1;33m:\u001B[0m\u001B[1;33m\u001B[0m\u001B[1;33m\u001B[0m\u001B[0m\n\u001B[1;32m-> 1147\u001B[1;33m             \u001B[0mself\u001B[0m\u001B[1;33m.\u001B[0m\u001B[0m_do_wait_suspend\u001B[0m\u001B[1;33m(\u001B[0m\u001B[0mthread\u001B[0m\u001B[1;33m,\u001B[0m \u001B[0mframe\u001B[0m\u001B[1;33m,\u001B[0m \u001B[0mevent\u001B[0m\u001B[1;33m,\u001B[0m \u001B[0marg\u001B[0m\u001B[1;33m,\u001B[0m \u001B[0msuspend_type\u001B[0m\u001B[1;33m,\u001B[0m \u001B[0mfrom_this_thread\u001B[0m\u001B[1;33m)\u001B[0m\u001B[1;33m\u001B[0m\u001B[1;33m\u001B[0m\u001B[0m\n\u001B[0m\u001B[0;32m   1148\u001B[0m \u001B[1;33m\u001B[0m\u001B[0m\n\u001B[0;32m   1149\u001B[0m     \u001B[1;32mdef\u001B[0m \u001B[0m_do_wait_suspend\u001B[0m\u001B[1;33m(\u001B[0m\u001B[0mself\u001B[0m\u001B[1;33m,\u001B[0m \u001B[0mthread\u001B[0m\u001B[1;33m,\u001B[0m \u001B[0mframe\u001B[0m\u001B[1;33m,\u001B[0m \u001B[0mevent\u001B[0m\u001B[1;33m,\u001B[0m \u001B[0marg\u001B[0m\u001B[1;33m,\u001B[0m \u001B[0msuspend_type\u001B[0m\u001B[1;33m,\u001B[0m \u001B[0mfrom_this_thread\u001B[0m\u001B[1;33m)\u001B[0m\u001B[1;33m:\u001B[0m\u001B[1;33m\u001B[0m\u001B[1;33m\u001B[0m\u001B[0m\n",
      "\u001B[1;32mC:\\Program Files\\JetBrains\\PyCharm 2021.1\\plugins\\python\\helpers\\pydev\\pydevd.py\u001B[0m in \u001B[0;36m_do_wait_suspend\u001B[1;34m(self, thread, frame, event, arg, suspend_type, from_this_thread)\u001B[0m\n\u001B[0;32m   1160\u001B[0m \u001B[1;33m\u001B[0m\u001B[0m\n\u001B[0;32m   1161\u001B[0m                 \u001B[0mself\u001B[0m\u001B[1;33m.\u001B[0m\u001B[0mprocess_internal_commands\u001B[0m\u001B[1;33m(\u001B[0m\u001B[1;33m)\u001B[0m\u001B[1;33m\u001B[0m\u001B[1;33m\u001B[0m\u001B[0m\n\u001B[1;32m-> 1162\u001B[1;33m                 \u001B[0mtime\u001B[0m\u001B[1;33m.\u001B[0m\u001B[0msleep\u001B[0m\u001B[1;33m(\u001B[0m\u001B[1;36m0.01\u001B[0m\u001B[1;33m)\u001B[0m\u001B[1;33m\u001B[0m\u001B[1;33m\u001B[0m\u001B[0m\n\u001B[0m\u001B[0;32m   1163\u001B[0m \u001B[1;33m\u001B[0m\u001B[0m\n\u001B[0;32m   1164\u001B[0m         \u001B[0mself\u001B[0m\u001B[1;33m.\u001B[0m\u001B[0mcancel_async_evaluation\u001B[0m\u001B[1;33m(\u001B[0m\u001B[0mget_current_thread_id\u001B[0m\u001B[1;33m(\u001B[0m\u001B[0mthread\u001B[0m\u001B[1;33m)\u001B[0m\u001B[1;33m,\u001B[0m \u001B[0mstr\u001B[0m\u001B[1;33m(\u001B[0m\u001B[0mid\u001B[0m\u001B[1;33m(\u001B[0m\u001B[0mframe\u001B[0m\u001B[1;33m)\u001B[0m\u001B[1;33m)\u001B[0m\u001B[1;33m)\u001B[0m\u001B[1;33m\u001B[0m\u001B[1;33m\u001B[0m\u001B[0m\n",
      "\u001B[1;31mKeyboardInterrupt\u001B[0m: "
     ]
    }
   ],
   "source": [
    "import re\n",
    "img = cv2.imread('code.png')\n",
    "\n",
    "# blur = cv2.GaussianBlur(img, (3, 3), 0)  # 高斯滤波函数\n",
    "# blur = cv2.medianBlur(img, 3)  # 中值滤波函数\n",
    "blur = cv2.bilateralFilter(img, 3, 560, 560)  # 双边滤波函数\n",
    "\n",
    "a = pytesseract.image_to_string(blur)\n",
    "\n",
    "# 对结果的处理\n",
    "st = re.sub(r'[^A-Za-z0-9]+', '', a)\n",
    "st = st.lower()\n",
    "if len(st) > 4:\n",
    "    b = st[-4:]\n",
    "else:\n",
    "    b = st\n",
    "print(st)"
   ],
   "metadata": {
    "collapsed": false,
    "pycharm": {
     "name": "#%%\n"
    }
   }
  },
  {
   "cell_type": "code",
   "execution_count": 22,
   "outputs": [],
   "source": [
    "import sys, os\n",
    "from PIL import Image, ImageDraw\n",
    "\n",
    "t2val = {}\n",
    "def twoValue(image, G):\n",
    "    for y in range(0, image.size[1]):\n",
    "        for x in range(0, image.size[0]):\n",
    "            g = image.getpixel((x, y))\n",
    "            if g > G:\n",
    "                t2val[(x, y)] = 1\n",
    "            else:\n",
    "                t2val[(x, y)] = 0\n",
    "\n",
    "\n",
    "# 根据一个点A的RGB值，与周围的8个点的RBG值比较，设定一个值N（0 <N <8），当A的RGB值与周围8个点的RGB相等数小于N时，此点为噪点\n",
    "# G: Integer 图像二值化阀值\n",
    "# N: Integer 降噪率 0 <N <8\n",
    "# Z: Integer 降噪次数\n",
    "# 输出\n",
    "#  0：降噪成功\n",
    "#  1：降噪失败\n",
    "def clearNoise(image, N, Z):\n",
    "    for i in range(0, Z):\n",
    "        t2val[(0, 0)] = 1\n",
    "        t2val[(image.size[0] - 1, image.size[1] - 1)] = 1\n",
    "\n",
    "        for x in range(1, image.size[0] - 1):\n",
    "            for y in range(1, image.size[1] - 1):\n",
    "                nearDots = 0\n",
    "                L = t2val[(x, y)]\n",
    "                if L == t2val[(x - 1, y - 1)]:\n",
    "                    nearDots += 1\n",
    "                if L == t2val[(x - 1, y)]:\n",
    "                    nearDots += 1\n",
    "                if L == t2val[(x - 1, y + 1)]:\n",
    "                    nearDots += 1\n",
    "                if L == t2val[(x, y - 1)]:\n",
    "                    nearDots += 1\n",
    "                if L == t2val[(x, y + 1)]:\n",
    "                    nearDots += 1\n",
    "                if L == t2val[(x + 1, y - 1)]:\n",
    "                    nearDots += 1\n",
    "                if L == t2val[(x + 1, y)]:\n",
    "                    nearDots += 1\n",
    "                if L == t2val[(x + 1, y + 1)]:\n",
    "                    nearDots += 1\n",
    "\n",
    "                if nearDots < N:\n",
    "                    t2val[(x, y)] = 1\n",
    "\n",
    "\n",
    "image = Image.open('code.png').convert(\"L\")\n",
    "twoValue(image, 100)\n",
    "clearNoise(image, 2, 1)\n",
    "image.save('new.png')"
   ],
   "metadata": {
    "collapsed": false,
    "pycharm": {
     "name": "#%%\n"
    }
   }
  },
  {
   "cell_type": "code",
   "execution_count": 41,
   "outputs": [
    {
     "data": {
      "text/plain": "<Figure size 432x288 with 3 Axes>",
      "image/png": "[encoded data removed]"
     },
     "metadata": {
      "needs_background": "light"
     },
     "output_type": "display_data"
    }
   ],
   "source": [
    "import cv2, time\n",
    "import matplotlib.pyplot as plt\n",
    "\n",
    "# 计算邻域非白色个数\n",
    "def calculate_noise_count(img_obj, w, h):\n",
    "    \"\"\"\n",
    "    计算邻域非白色的个数\n",
    "    Args:\n",
    "        img_obj: img obj\n",
    "        w: width\n",
    "        h: height\n",
    "    Returns:\n",
    "        count (int)\n",
    "    \"\"\"\n",
    "    count = 0\n",
    "    width, height,s = img_obj.shape\n",
    "    for _w_ in [w - 1, w, w + 1]:\n",
    "        for _h_ in [h - 1, h, h + 1]:\n",
    "            if _w_ > width - 1:\n",
    "                continue\n",
    "            if _h_ > height - 1:\n",
    "                continue\n",
    "            if _w_ == w and _h_ == h:\n",
    "                continue\n",
    "            if (img_obj[_w_, _h_,0] < 233) or (img_obj[_w_, _h_,1] < 233) or (img_obj[_w_, _h_,2] < 233):\n",
    "                count += 1\n",
    "    return count\n",
    "\n",
    "\n",
    "# k邻域降噪\n",
    "def operate_img(img,k):\n",
    "    w,h,s = img.shape\n",
    "    # 从高度开始遍历\n",
    "    for _w in range(w):\n",
    "        # 遍历宽度\n",
    "        for _h in range(h):\n",
    "            if _h != 0 and _w != 0 and _w < w-1 and _h < h-1:\n",
    "                if calculate_noise_count(img, _w, _h) < k:\n",
    "                    img.itemset((_w,_h,0),255)\n",
    "                    img.itemset((_w, _h,1), 255)\n",
    "                    img.itemset((_w, _h,2), 255)\n",
    "\n",
    "    return img\n",
    "\n",
    "\n",
    "img = cv2.imread(\"code.png\")\n",
    "gray = cv2.cvtColor(img, cv2.COLOR_RGB2GRAY)\n",
    "img2 = cv2.inRange(gray, lowerb=180, upperb=255)\n",
    "# cv2.namedWindow(\"im1\")\n",
    "# cv2.imshow(\"im1\", img2)\n",
    "# cv2.waitKey(100)  # 100毫秒\n",
    "# time.sleep(3)\n",
    "# cv2.destroyAllWindows()\n",
    "\n",
    "# ret, img3 = cv2.threshold(img2, 160, 255, cv2.THRESH_BINARY)\n",
    "img3 = cv2.adaptiveThreshold(img2, 180, cv2.ADAPTIVE_THRESH_MEAN_C, cv2.THRESH_BINARY, 13, 2)\n",
    "plt.subplot(131), plt.imshow(img)  # 原始图片\n",
    "plt.subplot(132), plt.imshow(img2)  # 降噪图片\n",
    "plt.subplot(133), plt.imshow(img3)\n",
    "plt.show()"
   ],
   "metadata": {
    "collapsed": false,
    "pycharm": {
     "name": "#%%\n"
    }
   }
  }
 ],
 "metadata": {
  "kernelspec": {
   "display_name": "Python 3",
   "language": "python",
   "name": "python3"
  },
  "language_info": {
   "codemirror_mode": {
    "name": "ipython",
    "version": 2
   },
   "file_extension": ".py",
   "mimetype": "text/x-python",
   "name": "python",
   "nbconvert_exporter": "python",
   "pygments_lexer": "ipython2",
   "version": "2.7.6"
  }
 },
 "nbformat": 4,
 "nbformat_minor": 0
}