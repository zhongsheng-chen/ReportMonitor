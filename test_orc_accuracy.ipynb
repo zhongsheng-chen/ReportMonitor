{
 "cells": [
  {
   "cell_type": "code",
   "execution_count": 1,
   "metadata": {
    "collapsed": true
   },
   "outputs": [],
   "source": [
    "import sys\n",
    "import os\n",
    "from selenium import webdriver\n",
    "import json\n",
    "from PIL import Image\n",
    "import pytesseract\n",
    "import time\n",
    "from PyQt5.QtCore import *\n",
    "from PyQt5.QtWidgets import *\n",
    "from PyQt5.QtGui import *\n",
    "from ReportMonitor_UI import Ui_MainWindow\n",
    "import threading\n",
    "from win10toast import ToastNotifier\n",
    "from Notification import send_notification\n",
    "from collections import defaultdict\n",
    "import winsound\n",
    "import string\n",
    "import importlib"
   ]
  },
  {
   "cell_type": "code",
   "execution_count": 2,
   "outputs": [],
   "source": [
    "# driver.get(\"http://\" + goalurl + \"/pyxx/login.aspx\")\n",
    "# driver.maximize_window()\n",
    "# current_window_size = driver.get_window_size()\n",
    "# width = current_window_size[\"width\"]\n",
    "# height = current_window_size[\"height\"]\n",
    "# driver.set_window_size(width, height)\n",
    "# aElement = driver.find_element_by_xpath('./*//title')\n",
    "# print(aElement.get_attribute(\"innerText\"))"
   ],
   "metadata": {
    "collapsed": false,
    "pycharm": {
     "name": "#%%\n"
    }
   }
  },
  {
   "cell_type": "code",
   "execution_count": 3,
   "outputs": [],
   "source": [
    "user = \"2017400144\"\n",
    "goalurl = \"yjsy.buct.edu.cn:8080\"\n",
    "url = \"http://\" + goalurl + \"/pyxx/txhdgl/hdlist.aspx?xh=\" + user"
   ],
   "metadata": {
    "collapsed": false,
    "pycharm": {
     "name": "#%%\n"
    }
   }
  },
  {
   "cell_type": "code",
   "execution_count": 6,
   "outputs": [
    {
     "ename": "NoSuchElementException",
     "evalue": "Message: no such element: Unable to locate element: {\"method\":\"xpath\",\"selector\":\"./*//input[@name='txtyzm']/../img\"}\n  (Session info: headless chrome=90.0.4430.72)\n",
     "output_type": "error",
     "traceback": [
      "\u001B[1;31m---------------------------------------------------------------------------\u001B[0m",
      "\u001B[1;31mNoSuchElementException\u001B[0m                    Traceback (most recent call last)",
      "\u001B[1;32m<ipython-input-6-d248785e8cea>\u001B[0m in \u001B[0;36m<module>\u001B[1;34m\u001B[0m\n\u001B[0;32m      6\u001B[0m \u001B[0mdriver\u001B[0m \u001B[1;33m=\u001B[0m \u001B[0mwebdriver\u001B[0m\u001B[1;33m.\u001B[0m\u001B[0mChrome\u001B[0m\u001B[1;33m(\u001B[0m\u001B[0moptions\u001B[0m\u001B[1;33m=\u001B[0m\u001B[0moption\u001B[0m\u001B[1;33m)\u001B[0m\u001B[1;33m\u001B[0m\u001B[1;33m\u001B[0m\u001B[0m\n\u001B[0;32m      7\u001B[0m \u001B[0mdriver\u001B[0m\u001B[1;33m.\u001B[0m\u001B[0mget\u001B[0m\u001B[1;33m(\u001B[0m\u001B[0murl\u001B[0m\u001B[1;33m)\u001B[0m\u001B[1;33m\u001B[0m\u001B[1;33m\u001B[0m\u001B[0m\n\u001B[1;32m----> 8\u001B[1;33m \u001B[0mtarget\u001B[0m \u001B[1;33m=\u001B[0m \u001B[0mdriver\u001B[0m\u001B[1;33m.\u001B[0m\u001B[0mfind_element_by_xpath\u001B[0m\u001B[1;33m(\u001B[0m\u001B[1;34m\"./*//input[@name='txtyzm']/../img\"\u001B[0m\u001B[1;33m)\u001B[0m\u001B[1;33m\u001B[0m\u001B[1;33m\u001B[0m\u001B[0m\n\u001B[0m\u001B[0;32m      9\u001B[0m \u001B[0mdriver\u001B[0m\u001B[1;33m.\u001B[0m\u001B[0mexecute_script\u001B[0m\u001B[1;33m(\u001B[0m\u001B[1;34m\"arguments[0].scrollIntoView(false);\"\u001B[0m\u001B[1;33m,\u001B[0m \u001B[0mtarget\u001B[0m\u001B[1;33m)\u001B[0m  \u001B[1;31m# 拖动到可见的元素去\u001B[0m\u001B[1;33m\u001B[0m\u001B[1;33m\u001B[0m\u001B[0m\n",
      "\u001B[1;32m~\\.conda\\envs\\report_monitor\\lib\\site-packages\\selenium\\webdriver\\remote\\webdriver.py\u001B[0m in \u001B[0;36mfind_element_by_xpath\u001B[1;34m(self, xpath)\u001B[0m\n\u001B[0;32m    392\u001B[0m             \u001B[0melement\u001B[0m \u001B[1;33m=\u001B[0m \u001B[0mdriver\u001B[0m\u001B[1;33m.\u001B[0m\u001B[0mfind_element_by_xpath\u001B[0m\u001B[1;33m(\u001B[0m\u001B[1;34m'//div/td[1]'\u001B[0m\u001B[1;33m)\u001B[0m\u001B[1;33m\u001B[0m\u001B[1;33m\u001B[0m\u001B[0m\n\u001B[0;32m    393\u001B[0m         \"\"\"\n\u001B[1;32m--> 394\u001B[1;33m         \u001B[1;32mreturn\u001B[0m \u001B[0mself\u001B[0m\u001B[1;33m.\u001B[0m\u001B[0mfind_element\u001B[0m\u001B[1;33m(\u001B[0m\u001B[0mby\u001B[0m\u001B[1;33m=\u001B[0m\u001B[0mBy\u001B[0m\u001B[1;33m.\u001B[0m\u001B[0mXPATH\u001B[0m\u001B[1;33m,\u001B[0m \u001B[0mvalue\u001B[0m\u001B[1;33m=\u001B[0m\u001B[0mxpath\u001B[0m\u001B[1;33m)\u001B[0m\u001B[1;33m\u001B[0m\u001B[1;33m\u001B[0m\u001B[0m\n\u001B[0m\u001B[0;32m    395\u001B[0m \u001B[1;33m\u001B[0m\u001B[0m\n\u001B[0;32m    396\u001B[0m     \u001B[1;32mdef\u001B[0m \u001B[0mfind_elements_by_xpath\u001B[0m\u001B[1;33m(\u001B[0m\u001B[0mself\u001B[0m\u001B[1;33m,\u001B[0m \u001B[0mxpath\u001B[0m\u001B[1;33m)\u001B[0m\u001B[1;33m:\u001B[0m\u001B[1;33m\u001B[0m\u001B[1;33m\u001B[0m\u001B[0m\n",
      "\u001B[1;32m~\\.conda\\envs\\report_monitor\\lib\\site-packages\\selenium\\webdriver\\remote\\webdriver.py\u001B[0m in \u001B[0;36mfind_element\u001B[1;34m(self, by, value)\u001B[0m\n\u001B[0;32m    976\u001B[0m         return self.execute(Command.FIND_ELEMENT, {\n\u001B[0;32m    977\u001B[0m             \u001B[1;34m'using'\u001B[0m\u001B[1;33m:\u001B[0m \u001B[0mby\u001B[0m\u001B[1;33m,\u001B[0m\u001B[1;33m\u001B[0m\u001B[1;33m\u001B[0m\u001B[0m\n\u001B[1;32m--> 978\u001B[1;33m             'value': value})['value']\n\u001B[0m\u001B[0;32m    979\u001B[0m \u001B[1;33m\u001B[0m\u001B[0m\n\u001B[0;32m    980\u001B[0m     \u001B[1;32mdef\u001B[0m \u001B[0mfind_elements\u001B[0m\u001B[1;33m(\u001B[0m\u001B[0mself\u001B[0m\u001B[1;33m,\u001B[0m \u001B[0mby\u001B[0m\u001B[1;33m=\u001B[0m\u001B[0mBy\u001B[0m\u001B[1;33m.\u001B[0m\u001B[0mID\u001B[0m\u001B[1;33m,\u001B[0m \u001B[0mvalue\u001B[0m\u001B[1;33m=\u001B[0m\u001B[1;32mNone\u001B[0m\u001B[1;33m)\u001B[0m\u001B[1;33m:\u001B[0m\u001B[1;33m\u001B[0m\u001B[1;33m\u001B[0m\u001B[0m\n",
      "\u001B[1;32m~\\.conda\\envs\\report_monitor\\lib\\site-packages\\selenium\\webdriver\\remote\\webdriver.py\u001B[0m in \u001B[0;36mexecute\u001B[1;34m(self, driver_command, params)\u001B[0m\n\u001B[0;32m    319\u001B[0m         \u001B[0mresponse\u001B[0m \u001B[1;33m=\u001B[0m \u001B[0mself\u001B[0m\u001B[1;33m.\u001B[0m\u001B[0mcommand_executor\u001B[0m\u001B[1;33m.\u001B[0m\u001B[0mexecute\u001B[0m\u001B[1;33m(\u001B[0m\u001B[0mdriver_command\u001B[0m\u001B[1;33m,\u001B[0m \u001B[0mparams\u001B[0m\u001B[1;33m)\u001B[0m\u001B[1;33m\u001B[0m\u001B[1;33m\u001B[0m\u001B[0m\n\u001B[0;32m    320\u001B[0m         \u001B[1;32mif\u001B[0m \u001B[0mresponse\u001B[0m\u001B[1;33m:\u001B[0m\u001B[1;33m\u001B[0m\u001B[1;33m\u001B[0m\u001B[0m\n\u001B[1;32m--> 321\u001B[1;33m             \u001B[0mself\u001B[0m\u001B[1;33m.\u001B[0m\u001B[0merror_handler\u001B[0m\u001B[1;33m.\u001B[0m\u001B[0mcheck_response\u001B[0m\u001B[1;33m(\u001B[0m\u001B[0mresponse\u001B[0m\u001B[1;33m)\u001B[0m\u001B[1;33m\u001B[0m\u001B[1;33m\u001B[0m\u001B[0m\n\u001B[0m\u001B[0;32m    322\u001B[0m             response['value'] = self._unwrap_value(\n\u001B[0;32m    323\u001B[0m                 response.get('value', None))\n",
      "\u001B[1;32m~\\.conda\\envs\\report_monitor\\lib\\site-packages\\selenium\\webdriver\\remote\\errorhandler.py\u001B[0m in \u001B[0;36mcheck_response\u001B[1;34m(self, response)\u001B[0m\n\u001B[0;32m    240\u001B[0m                 \u001B[0malert_text\u001B[0m \u001B[1;33m=\u001B[0m \u001B[0mvalue\u001B[0m\u001B[1;33m[\u001B[0m\u001B[1;34m'alert'\u001B[0m\u001B[1;33m]\u001B[0m\u001B[1;33m.\u001B[0m\u001B[0mget\u001B[0m\u001B[1;33m(\u001B[0m\u001B[1;34m'text'\u001B[0m\u001B[1;33m)\u001B[0m\u001B[1;33m\u001B[0m\u001B[1;33m\u001B[0m\u001B[0m\n\u001B[0;32m    241\u001B[0m             \u001B[1;32mraise\u001B[0m \u001B[0mexception_class\u001B[0m\u001B[1;33m(\u001B[0m\u001B[0mmessage\u001B[0m\u001B[1;33m,\u001B[0m \u001B[0mscreen\u001B[0m\u001B[1;33m,\u001B[0m \u001B[0mstacktrace\u001B[0m\u001B[1;33m,\u001B[0m \u001B[0malert_text\u001B[0m\u001B[1;33m)\u001B[0m\u001B[1;33m\u001B[0m\u001B[1;33m\u001B[0m\u001B[0m\n\u001B[1;32m--> 242\u001B[1;33m         \u001B[1;32mraise\u001B[0m \u001B[0mexception_class\u001B[0m\u001B[1;33m(\u001B[0m\u001B[0mmessage\u001B[0m\u001B[1;33m,\u001B[0m \u001B[0mscreen\u001B[0m\u001B[1;33m,\u001B[0m \u001B[0mstacktrace\u001B[0m\u001B[1;33m)\u001B[0m\u001B[1;33m\u001B[0m\u001B[1;33m\u001B[0m\u001B[0m\n\u001B[0m\u001B[0;32m    243\u001B[0m \u001B[1;33m\u001B[0m\u001B[0m\n\u001B[0;32m    244\u001B[0m     \u001B[1;32mdef\u001B[0m \u001B[0m_value_or_default\u001B[0m\u001B[1;33m(\u001B[0m\u001B[0mself\u001B[0m\u001B[1;33m,\u001B[0m \u001B[0mobj\u001B[0m\u001B[1;33m,\u001B[0m \u001B[0mkey\u001B[0m\u001B[1;33m,\u001B[0m \u001B[0mdefault\u001B[0m\u001B[1;33m)\u001B[0m\u001B[1;33m:\u001B[0m\u001B[1;33m\u001B[0m\u001B[1;33m\u001B[0m\u001B[0m\n",
      "\u001B[1;31mNoSuchElementException\u001B[0m: Message: no such element: Unable to locate element: {\"method\":\"xpath\",\"selector\":\"./*//input[@name='txtyzm']/../img\"}\n  (Session info: headless chrome=90.0.4430.72)\n"
     ]
    }
   ],
   "source": [
    "option = webdriver.ChromeOptions()\n",
    "option.add_argument(\"--start-maximized\")\n",
    "option.add_argument('window-size=1536, 824')\n",
    "option.add_argument('headless')\n",
    "\n",
    "driver = webdriver.Chrome(options=option)\n",
    "driver.get(url)\n",
    "target = driver.find_element_by_xpath(\"./*//input[@name='txtyzm']/../img\")\n",
    "driver.execute_script(\"arguments[0].scrollIntoView(false);\", target)  # 拖动到可见的元素去"
   ],
   "metadata": {
    "collapsed": false,
    "pycharm": {
     "name": "#%%\n"
    }
   }
  },
  {
   "cell_type": "code",
   "execution_count": null,
   "outputs": [],
   "source": [
    "\n",
    "yzmElement = driver.find_element_by_xpath(\"./*//input[@name='txtyzm']/../img\")\n",
    "img = Image.open('screenshot.png')\n",
    "\n",
    "left = int(yzmElement.location['x'])\n",
    "\n",
    "# top = int(yzmElement.location['y'])\n",
    "# top = img.height - 32 - yzmElement.size['height'] #- bottomTable.size['height']\n",
    "if int(yzmElement.location['y'] + yzmElement.size['height']) > img.height:\n",
    "    bottom = img.height\n",
    "else:\n",
    "    bottom = int(yzmElement.location['y'] + yzmElement.size['height'])\n",
    "top = bottom - yzmElement.size['height']\n",
    "right = int(yzmElement.location['x'] + yzmElement.size['width'])\n",
    "# bottom = int(yzmElement.location['y'] + yzmElement.size['height'])\n",
    "print((left, top, right, bottom))\n",
    "img = img.crop((left, top, right, bottom))\n",
    "img.save('code.png')"
   ],
   "metadata": {
    "collapsed": false,
    "pycharm": {
     "name": "#%%\n"
    }
   }
  },
  {
   "cell_type": "code",
   "execution_count": 7,
   "outputs": [],
   "source": [
    "def _get_threshold(image):\n",
    "    pixel_dict = defaultdict(int)\n",
    "\n",
    "    #  a dictionary of pixels and the number of occurrences of that pixel\n",
    "    rows, cols = image.size\n",
    "    for i in range(rows):\n",
    "        for j in range(cols):\n",
    "            pixel = image.getpixel((i, j))\n",
    "            pixel_dict[pixel] += 1\n",
    "\n",
    "    count_max = max(pixel_dict.values())  # gets the number of times a pixel appears\n",
    "    pixel_dict_reverse = {v: k for k, v in pixel_dict.items()}\n",
    "    threshold = pixel_dict_reverse[count_max]  #\n",
    "\n",
    "    return threshold\n",
    "\n",
    "def _get_bin_table(threshold):\n",
    "    table = []\n",
    "    for i in range(256):\n",
    "        rate = 0.1  # threshold\n",
    "        if threshold * (1 - rate) <= i <= threshold * (1 + rate):\n",
    "            table.append(1)\n",
    "        else:\n",
    "            table.append(0)\n",
    "    return table\n",
    "\n",
    "def _cut_noise(image):\n",
    "    rows, cols = image.size  #\n",
    "    change_pos = []  #\n",
    "    for i in range(1, rows - 1):\n",
    "        for j in range(1, cols - 1):\n",
    "            pixel_set = []\n",
    "            for m in range(i - 1, i + 2):\n",
    "                for n in range(j - 1, j + 2):\n",
    "                    if image.getpixel((m, n)) != 1:  # 1,0\n",
    "                        pixel_set.append(image.getpixel((m, n)))\n",
    "            if len(pixel_set) <= 4:\n",
    "                change_pos.append((i, j))\n",
    "    for pos in change_pos:\n",
    "        image.putpixel(pos, 1)\n",
    "    return image"
   ],
   "metadata": {
    "collapsed": false,
    "pycharm": {
     "name": "#%%\n"
    }
   }
  },
  {
   "cell_type": "code",
   "execution_count": 19,
   "outputs": [
    {
     "name": "stdout",
     "output_type": "stream",
     "text": [
      " \n",
      "\n",
      " \n",
      "\n",
      "0966\n",
      "\n",
      " \n",
      "\n",
      " \n",
      "\f\n",
      "0966\n"
     ]
    }
   ],
   "source": [
    "image = Image.open('code.png')\n",
    "image = image.convert('L')\n",
    "max_pixel = _get_threshold(image)\n",
    "table = _get_bin_table(threshold=max_pixel)\n",
    "image = image.point(table, '1')\n",
    "image = _cut_noise(image)\n",
    "image.save('code_denoise.png')\n",
    "yzm = pytesseract.image_to_string(image)\n",
    "# exclude_char_list = ' .·:`‘、“\\\\|\\'\\\"?![],()~@#$%^&*_+-={};<>/¥'\n",
    "# yzm = ''.join([x for x in yzm if x not in exclude_char_list]).strip()\n",
    "\n",
    "print(yzm)\n",
    "\n",
    "whitespace = ['\\f', '\\n', '\\r', '\\t', '\\v', '\\u00A0', '\\u2028', '\\u2029']\n",
    "yzm = ''.join(filter(lambda x: x not in whitespace, filter(lambda x: x in string.printable, yzm))).strip(' \\r\\n\\f\\t\\b\\v\\0')\n",
    "\n",
    "\n",
    "print(yzm)"
   ],
   "metadata": {
    "collapsed": false,
    "pycharm": {
     "name": "#%%\n"
    }
   }
  }
 ],
 "metadata": {
  "kernelspec": {
   "display_name": "Python 3",
   "language": "python",
   "name": "python3"
  },
  "language_info": {
   "codemirror_mode": {
    "name": "ipython",
    "version": 2
   },
   "file_extension": ".py",
   "mimetype": "text/x-python",
   "name": "python",
   "nbconvert_exporter": "python",
   "pygments_lexer": "ipython2",
   "version": "2.7.6"
  }
 },
 "nbformat": 4,
 "nbformat_minor": 0
}